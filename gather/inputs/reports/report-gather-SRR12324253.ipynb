{
 "cells": [
  {
   "cell_type": "code",
   "execution_count": 1,
   "id": "989d24b6",
   "metadata": {
    "execution": {
     "iopub.execute_input": "2022-01-17T20:07:52.485644Z",
     "iopub.status.busy": "2022-01-17T20:07:52.485041Z",
     "iopub.status.idle": "2022-01-17T20:07:54.338176Z",
     "shell.execute_reply": "2022-01-17T20:07:54.338916Z"
    },
    "papermill": {
     "duration": 1.879449,
     "end_time": "2022-01-17T20:07:54.339199",
     "exception": false,
     "start_time": "2022-01-17T20:07:52.459750",
     "status": "completed"
    },
    "tags": []
   },
   "outputs": [],
   "source": [
    "%matplotlib inline\n",
    "import pylab\n",
    "import pandas as pd\n",
    "import glob\n",
    "from collections import defaultdict"
   ]
  },
  {
   "cell_type": "code",
   "execution_count": 2,
   "id": "57557a11",
   "metadata": {
    "execution": {
     "iopub.execute_input": "2022-01-17T20:07:54.377385Z",
     "iopub.status.busy": "2022-01-17T20:07:54.376870Z",
     "iopub.status.idle": "2022-01-17T20:07:54.379662Z",
     "shell.execute_reply": "2022-01-17T20:07:54.379101Z"
    },
    "papermill": {
     "duration": 0.028004,
     "end_time": "2022-01-17T20:07:54.379793",
     "exception": false,
     "start_time": "2022-01-17T20:07:54.351789",
     "status": "completed"
    },
    "tags": [
     "parameters"
    ]
   },
   "outputs": [],
   "source": [
    "sample_id='podar'\n",
    "outdir = 'outputs.private'\n"
   ]
  },
  {
   "cell_type": "code",
   "execution_count": 3,
   "id": "790a18a3",
   "metadata": {
    "execution": {
     "iopub.execute_input": "2022-01-17T20:07:54.428863Z",
     "iopub.status.busy": "2022-01-17T20:07:54.428283Z",
     "iopub.status.idle": "2022-01-17T20:07:54.430373Z",
     "shell.execute_reply": "2022-01-17T20:07:54.429868Z"
    },
    "papermill": {
     "duration": 0.026414,
     "end_time": "2022-01-17T20:07:54.430506",
     "exception": false,
     "start_time": "2022-01-17T20:07:54.404092",
     "status": "completed"
    },
    "tags": [
     "injected-parameters"
    ]
   },
   "outputs": [],
   "source": [
    "# Parameters\n",
    "sample_id = \"SRR12324253\"\n",
    "render = \"\"\n",
    "outdir = \"outputs.paper\"\n"
   ]
  },
  {
   "cell_type": "code",
   "execution_count": 4,
   "id": "0b699f75",
   "metadata": {
    "execution": {
     "iopub.execute_input": "2022-01-17T20:07:54.477305Z",
     "iopub.status.busy": "2022-01-17T20:07:54.476712Z",
     "iopub.status.idle": "2022-01-17T20:07:54.484050Z",
     "shell.execute_reply": "2022-01-17T20:07:54.484533Z"
    },
    "papermill": {
     "duration": 0.032311,
     "end_time": "2022-01-17T20:07:54.484705",
     "exception": false,
     "start_time": "2022-01-17T20:07:54.452394",
     "status": "completed"
    },
    "tags": []
   },
   "outputs": [
    {
     "data": {
      "text/markdown": [
       "# genome-grist gathergram for metagenome `SRR12324253`"
      ],
      "text/plain": [
       "<IPython.core.display.Markdown object>"
      ]
     },
     "execution_count": 4,
     "metadata": {},
     "output_type": "execute_result"
    }
   ],
   "source": [
    "from IPython.display import Markdown as md\n",
    "from IPython.display import display\n",
    "md(f\"# genome-grist gathergram for metagenome `{sample_id}`\")"
   ]
  },
  {
   "cell_type": "markdown",
   "id": "5ae571ef",
   "metadata": {
    "papermill": {
     "duration": 0.010672,
     "end_time": "2022-01-17T20:07:54.506226",
     "exception": false,
     "start_time": "2022-01-17T20:07:54.495554",
     "status": "completed"
    },
    "tags": []
   },
   "source": [
    "## load gather CSV"
   ]
  },
  {
   "cell_type": "code",
   "execution_count": 5,
   "id": "1fb4c02b",
   "metadata": {
    "execution": {
     "iopub.execute_input": "2022-01-17T20:07:54.533880Z",
     "iopub.status.busy": "2022-01-17T20:07:54.533280Z",
     "iopub.status.idle": "2022-01-17T20:07:54.556622Z",
     "shell.execute_reply": "2022-01-17T20:07:54.557053Z"
    },
    "papermill": {
     "duration": 0.040646,
     "end_time": "2022-01-17T20:07:54.557243",
     "exception": false,
     "start_time": "2022-01-17T20:07:54.516597",
     "status": "completed"
    },
    "tags": []
   },
   "outputs": [
    {
     "name": "stdout",
     "output_type": "stream",
     "text": [
      "reading from ../../outputs.paper/gather/SRR12324253.genomes.info.csv\n"
     ]
    }
   ],
   "source": [
    "# load gather CSV\n",
    "gather_df = pd.read_csv(f'../../{outdir}/gather/{sample_id}.gather.csv')\n",
    "\n",
    "# names!\n",
    "print(f'reading from ../../{outdir}/gather/{sample_id}.genomes.info.csv')\n",
    "names_df = pd.read_csv(f'../../{outdir}/gather/{sample_id}.genomes.info.csv')\n",
    "\n",
    "# connect gather_df to all_df and left_df using 'genome_id'\n",
    "def fix_name(x):\n",
    "    return \"_\".join(x.split('_')[:2]).split('.')[0]\n",
    "\n",
    "gather_df['genome_id'] = gather_df['name'].apply(fix_name)\n",
    "names_df['genome_id'] = names_df['ident'].apply(fix_name)"
   ]
  },
  {
   "cell_type": "code",
   "execution_count": 6,
   "id": "01f07f9a",
   "metadata": {
    "execution": {
     "iopub.execute_input": "2022-01-17T20:07:54.605791Z",
     "iopub.status.busy": "2022-01-17T20:07:54.605212Z",
     "iopub.status.idle": "2022-01-17T20:07:54.607351Z",
     "shell.execute_reply": "2022-01-17T20:07:54.606837Z"
    },
    "papermill": {
     "duration": 0.038762,
     "end_time": "2022-01-17T20:07:54.607491",
     "exception": false,
     "start_time": "2022-01-17T20:07:54.568729",
     "status": "completed"
    },
    "tags": []
   },
   "outputs": [],
   "source": [
    "# CTB bug FIXME - should this ever happen??\n",
    "# this ensures that only rows that share genome_id are in all the dataframes\n",
    "in_gather = set(gather_df.genome_id)\n",
    "names_df = names_df[names_df.genome_id.isin(in_gather)]\n",
    "\n",
    "# reassign index now that we've maybe dropped rows\n",
    "gather_df.index = range(len(gather_df))\n",
    "names_df.index = range(len(names_df))\n",
    "\n",
    "assert len(names_df) == len(gather_df), (names_df, gather_df)"
   ]
  },
  {
   "cell_type": "code",
   "execution_count": 7,
   "id": "b4fbfea6",
   "metadata": {
    "execution": {
     "iopub.execute_input": "2022-01-17T20:07:54.652064Z",
     "iopub.status.busy": "2022-01-17T20:07:54.651292Z",
     "iopub.status.idle": "2022-01-17T20:07:54.653219Z",
     "shell.execute_reply": "2022-01-17T20:07:54.653684Z"
    },
    "papermill": {
     "duration": 0.029838,
     "end_time": "2022-01-17T20:07:54.653850",
     "exception": false,
     "start_time": "2022-01-17T20:07:54.624012",
     "status": "completed"
    },
    "tags": []
   },
   "outputs": [],
   "source": [
    "# re-sort names_df to match gather_df order, using matching genome_id column\n",
    "names_df.set_index(\"genome_id\")\n",
    "names_df.reindex(index=gather_df[\"genome_id\"])\n",
    "_ = names_df.reset_index()"
   ]
  },
  {
   "cell_type": "code",
   "execution_count": 8,
   "id": "1c44d504",
   "metadata": {
    "execution": {
     "iopub.execute_input": "2022-01-17T20:07:54.710062Z",
     "iopub.status.busy": "2022-01-17T20:07:54.700973Z",
     "iopub.status.idle": "2022-01-17T20:07:54.893196Z",
     "shell.execute_reply": "2022-01-17T20:07:54.893590Z"
    },
    "papermill": {
     "duration": 0.221376,
     "end_time": "2022-01-17T20:07:54.893787",
     "exception": false,
     "start_time": "2022-01-17T20:07:54.672411",
     "status": "completed"
    },
    "tags": []
   },
   "outputs": [
    {
     "data": {
      "text/plain": [
       "Text(0, 0.5, 'f_unique_to_query, as %')"
      ]
     },
     "execution_count": 8,
     "metadata": {},
     "output_type": "execute_result"
    },
    {
     "data": {
      "image/png": "[encoded data removed]",
      "text/plain": [
       "<Figure size 576x432 with 1 Axes>"
      ]
     },
     "metadata": {
      "needs_background": "light"
     },
     "output_type": "display_data"
    }
   ],
   "source": [
    "pylab.figure(num=None, figsize=(8, 6))\n",
    "pylab.plot(gather_df.index, gather_df[\"f_unique_to_query\"]*100, '.')\n",
    "\n",
    "pylab.title('fraction of hashes unique to query')\n",
    "pylab.xlabel('gather rank order')\n",
    "pylab.ylabel('f_unique_to_query, as %')"
   ]
  },
  {
   "cell_type": "code",
   "execution_count": 9,
   "id": "41854188",
   "metadata": {
    "execution": {
     "iopub.execute_input": "2022-01-17T20:07:54.928063Z",
     "iopub.status.busy": "2022-01-17T20:07:54.927508Z",
     "iopub.status.idle": "2022-01-17T20:07:55.184718Z",
     "shell.execute_reply": "2022-01-17T20:07:55.185159Z"
    },
    "papermill": {
     "duration": 0.279178,
     "end_time": "2022-01-17T20:07:55.185343",
     "exception": false,
     "start_time": "2022-01-17T20:07:54.906165",
     "status": "completed"
    },
    "tags": []
   },
   "outputs": [
    {
     "data": {
      "image/png": "[encoded data removed]",
      "text/plain": [
       "<Figure size 720x720 with 1 Axes>"
      ]
     },
     "metadata": {
      "needs_background": "light"
     },
     "output_type": "display_data"
    }
   ],
   "source": [
    "pylab.figure(num=None, figsize=(10, 10))\n",
    "\n",
    "pylab.plot(gather_df.intersect_bp / 1e6, gather_df.iloc[::-1].index, 'gx', label='hashes classified to this species')\n",
    "pylab.plot(gather_df.unique_intersect_bp / 1e6, gather_df.iloc[::-1].index, 'ro', label='hashes classified for this genome')\n",
    "\n",
    "positions = list(gather_df.index)\n",
    "labels = list(reversed(names_df.display_name))\n",
    "pylab.yticks(positions, labels, fontsize='small')\n",
    "\n",
    "pylab.xlabel('number (millions)')\n",
    "pylab.legend(loc='lower right')\n",
    "pylab.title(f'{sample_id}: gather hashes')\n",
    "pylab.tight_layout()\n"
   ]
  }
 ],
 "metadata": {
  "kernelspec": {
   "display_name": "Python (myenv)",
   "language": "python",
   "name": "myenv"
  },
  "language_info": {
   "codemirror_mode": {
    "name": "ipython",
    "version": 3
   },
   "file_extension": ".py",
   "mimetype": "text/x-python",
   "name": "python",
   "nbconvert_exporter": "python",
   "pygments_lexer": "ipython3",
   "version": "3.9.9"
  },
  "papermill": {
   "default_parameters": {},
   "duration": 5.403959,
   "end_time": "2022-01-17T20:07:55.711131",
   "environment_variables": {},
   "exception": null,
   "input_path": "/home/ctbrown/genome-grist/genome_grist/conf/../notebooks/report-gather.ipynb",
   "output_path": "outputs.paper/reports/report-gather-SRR12324253.ipynb",
   "parameters": {
    "outdir": "outputs.paper",
    "render": "",
    "sample_id": "SRR12324253"
   },
   "start_time": "2022-01-17T20:07:50.307172",
   "version": "2.3.3"
  }
 },
 "nbformat": 4,
 "nbformat_minor": 5
}