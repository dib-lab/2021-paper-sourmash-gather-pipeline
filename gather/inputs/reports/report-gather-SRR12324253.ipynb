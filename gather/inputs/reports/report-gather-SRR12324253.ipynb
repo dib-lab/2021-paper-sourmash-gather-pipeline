{
 "cells": [
  {
   "cell_type": "code",
   "execution_count": 1,
   "id": "173c2930",
   "metadata": {
    "execution": {
     "iopub.execute_input": "2022-02-17T21:10:50.338679Z",
     "iopub.status.busy": "2022-02-17T21:10:50.338225Z",
     "iopub.status.idle": "2022-02-17T21:10:51.425082Z",
     "shell.execute_reply": "2022-02-17T21:10:51.423987Z"
    },
    "papermill": {
     "duration": 1.108248,
     "end_time": "2022-02-17T21:10:51.428986",
     "exception": false,
     "start_time": "2022-02-17T21:10:50.320738",
     "status": "completed"
    },
    "tags": []
   },
   "outputs": [],
   "source": [
    "%matplotlib inline\n",
    "import pylab\n",
    "import pandas as pd\n",
    "import glob\n",
    "from collections import defaultdict"
   ]
  },
  {
   "cell_type": "code",
   "execution_count": 2,
   "id": "6fa49b98",
   "metadata": {
    "execution": {
     "iopub.execute_input": "2022-02-17T21:10:51.461381Z",
     "iopub.status.busy": "2022-02-17T21:10:51.460767Z",
     "iopub.status.idle": "2022-02-17T21:10:51.466359Z",
     "shell.execute_reply": "2022-02-17T21:10:51.465579Z"
    },
    "papermill": {
     "duration": 0.02267,
     "end_time": "2022-02-17T21:10:51.468540",
     "exception": false,
     "start_time": "2022-02-17T21:10:51.445870",
     "status": "completed"
    },
    "tags": [
     "parameters"
    ]
   },
   "outputs": [],
   "source": [
    "sample_id='podar'\n",
    "#sample_id = 'p8808mo9'\n",
    "#sample_id = 'p8808mo11'\n",
    "outdir = 'outputs.private'"
   ]
  },
  {
   "cell_type": "code",
   "execution_count": 3,
   "id": "aee63d57",
   "metadata": {
    "execution": {
     "iopub.execute_input": "2022-02-17T21:10:51.494373Z",
     "iopub.status.busy": "2022-02-17T21:10:51.493919Z",
     "iopub.status.idle": "2022-02-17T21:10:52.350176Z",
     "shell.execute_reply": "2022-02-17T21:10:52.349200Z"
    },
    "papermill": {
     "duration": 0.869769,
     "end_time": "2022-02-17T21:10:52.352393",
     "exception": false,
     "start_time": "2022-02-17T21:10:51.482624",
     "status": "completed"
    },
    "tags": [
     "injected-parameters"
    ]
   },
   "outputs": [],
   "source": [
    "# Parameters\n",
    "sample_id = \"SRR12324253\"\n",
    "render = \"\"\n",
    "outdir = \"outputs.paper\"\n"
   ]
  },
  {
   "cell_type": "code",
   "execution_count": 4,
   "id": "987b8242",
   "metadata": {
    "execution": {
     "iopub.execute_input": "2022-02-17T21:10:52.384844Z",
     "iopub.status.busy": "2022-02-17T21:10:52.384368Z",
     "iopub.status.idle": "2022-02-17T21:10:52.471244Z",
     "shell.execute_reply": "2022-02-17T21:10:52.470108Z"
    },
    "papermill": {
     "duration": 0.10287,
     "end_time": "2022-02-17T21:10:52.474294",
     "exception": false,
     "start_time": "2022-02-17T21:10:52.371424",
     "status": "completed"
    },
    "tags": []
   },
   "outputs": [
    {
     "data": {
      "text/markdown": [
       "# genome-grist gathergram for metagenome `SRR12324253`"
      ],
      "text/plain": [
       "<IPython.core.display.Markdown object>"
      ]
     },
     "execution_count": 4,
     "metadata": {},
     "output_type": "execute_result"
    }
   ],
   "source": [
    "from IPython.display import Markdown as md\n",
    "from IPython.display import display\n",
    "md(f\"# genome-grist gathergram for metagenome `{sample_id}`\")"
   ]
  },
  {
   "cell_type": "markdown",
   "id": "b4d79f1b",
   "metadata": {
    "papermill": {
     "duration": 0.015515,
     "end_time": "2022-02-17T21:10:52.508021",
     "exception": false,
     "start_time": "2022-02-17T21:10:52.492506",
     "status": "completed"
    },
    "tags": []
   },
   "source": [
    "## load gather CSV"
   ]
  },
  {
   "cell_type": "code",
   "execution_count": 5,
   "id": "b2ca18ad",
   "metadata": {
    "execution": {
     "iopub.execute_input": "2022-02-17T21:10:52.539562Z",
     "iopub.status.busy": "2022-02-17T21:10:52.539121Z",
     "iopub.status.idle": "2022-02-17T21:10:52.569228Z",
     "shell.execute_reply": "2022-02-17T21:10:52.568233Z"
    },
    "papermill": {
     "duration": 0.050737,
     "end_time": "2022-02-17T21:10:52.571758",
     "exception": false,
     "start_time": "2022-02-17T21:10:52.521021",
     "status": "completed"
    },
    "tags": []
   },
   "outputs": [
    {
     "name": "stdout",
     "output_type": "stream",
     "text": [
      "reading gather results from ../../outputs.paper/gather/SRR12324253.gather.csv\n",
      "reading from ../../outputs.paper/gather/SRR12324253.genomes.info.csv\n"
     ]
    }
   ],
   "source": [
    "# load gather CSV\n",
    "print(f'reading gather results from ../../{outdir}/gather/{sample_id}.gather.csv')\n",
    "gather_df = pd.read_csv(f'../../{outdir}/gather/{sample_id}.gather.csv')\n",
    "\n",
    "# names!\n",
    "print(f'reading from ../../{outdir}/gather/{sample_id}.genomes.info.csv')\n",
    "names_df = pd.read_csv(f'../../{outdir}/gather/{sample_id}.genomes.info.csv')\n",
    "\n",
    "# connect gather_df to all_df and left_df using 'genome_id'\n",
    "def fix_name(x):\n",
    "    # pick off first whitespace-delimited name as identifier\n",
    "    x = x.split()[0]\n",
    "    \n",
    "    # eliminate stuff after the period, too.\n",
    "    x = x.split('.')[0]\n",
    "    \n",
    "    return x\n",
    "    #return \"_\".join(x.split('_')[:2]).split('.')[0]\n",
    "\n",
    "gather_df['genome_id'] = gather_df['name'].apply(fix_name)\n",
    "names_df['genome_id'] = names_df['ident'].apply(fix_name)\n",
    "\n",
    "TRUNCATE_NAMES_LEN=30\n",
    "names_df['orig_display_name'] = names_df['display_name']\n",
    "truncate_display_name = lambda x: x[:TRUNCATE_NAMES_LEN] + '...' if len(x) > TRUNCATE_NAMES_LEN else x\n",
    "names_df['display_name'] = names_df['orig_display_name'].apply(truncate_display_name)"
   ]
  },
  {
   "cell_type": "code",
   "execution_count": 6,
   "id": "6bc03dd0",
   "metadata": {
    "execution": {
     "iopub.execute_input": "2022-02-17T21:10:52.601131Z",
     "iopub.status.busy": "2022-02-17T21:10:52.600671Z",
     "iopub.status.idle": "2022-02-17T21:10:52.611119Z",
     "shell.execute_reply": "2022-02-17T21:10:52.610469Z"
    },
    "papermill": {
     "duration": 0.023996,
     "end_time": "2022-02-17T21:10:52.613088",
     "exception": false,
     "start_time": "2022-02-17T21:10:52.589092",
     "status": "completed"
    },
    "tags": []
   },
   "outputs": [],
   "source": [
    "# CTB bug FIXME - should this ever happen??\n",
    "# this ensures that only rows that share genome_id are in all the dataframes\n",
    "in_gather = set(gather_df.genome_id)\n",
    "names_df = names_df[names_df.genome_id.isin(in_gather)]\n",
    "\n",
    "# reassign index now that we've maybe dropped rows\n",
    "gather_df.index = range(len(gather_df))\n",
    "names_df.index = range(len(names_df))\n",
    "\n",
    "assert len(names_df) == len(gather_df), (names_df, gather_df)"
   ]
  },
  {
   "cell_type": "code",
   "execution_count": 7,
   "id": "84600436",
   "metadata": {
    "execution": {
     "iopub.execute_input": "2022-02-17T21:10:52.639522Z",
     "iopub.status.busy": "2022-02-17T21:10:52.639316Z",
     "iopub.status.idle": "2022-02-17T21:10:52.647107Z",
     "shell.execute_reply": "2022-02-17T21:10:52.646108Z"
    },
    "papermill": {
     "duration": 0.021185,
     "end_time": "2022-02-17T21:10:52.648748",
     "exception": false,
     "start_time": "2022-02-17T21:10:52.627563",
     "status": "completed"
    },
    "tags": []
   },
   "outputs": [],
   "source": [
    "# re-sort names_df to match gather_df order, using matching genome_id column\n",
    "names_df.set_index(\"genome_id\")\n",
    "names_df.reindex(index=gather_df[\"genome_id\"])\n",
    "_ = names_df.reset_index()"
   ]
  },
  {
   "cell_type": "code",
   "execution_count": 8,
   "id": "ff15ffe6",
   "metadata": {
    "execution": {
     "iopub.execute_input": "2022-02-17T21:10:52.679315Z",
     "iopub.status.busy": "2022-02-17T21:10:52.678918Z",
     "iopub.status.idle": "2022-02-17T21:10:53.018972Z",
     "shell.execute_reply": "2022-02-17T21:10:53.018156Z"
    },
    "papermill": {
     "duration": 0.359069,
     "end_time": "2022-02-17T21:10:53.022208",
     "exception": false,
     "start_time": "2022-02-17T21:10:52.663139",
     "status": "completed"
    },
    "tags": []
   },
   "outputs": [
    {
     "data": {
      "text/plain": [
       "Text(0, 0.5, 'f_unique_to_query, as %')"
      ]
     },
     "execution_count": 8,
     "metadata": {},
     "output_type": "execute_result"
    },
    {
     "data": {
      "image/png": "[encoded data removed]",
      "text/plain": [
       "<Figure size 576x432 with 1 Axes>"
      ]
     },
     "metadata": {
      "needs_background": "light"
     },
     "output_type": "display_data"
    }
   ],
   "source": [
    "pylab.figure(num=None, figsize=(8, 6))\n",
    "pylab.plot(gather_df.index, gather_df[\"f_unique_to_query\"]*100, '.')\n",
    "\n",
    "pylab.title('fraction of hashes unique to query')\n",
    "pylab.xlabel('gather rank order')\n",
    "pylab.ylabel('f_unique_to_query, as %')"
   ]
  },
  {
   "cell_type": "code",
   "execution_count": 9,
   "id": "477089e1",
   "metadata": {
    "execution": {
     "iopub.execute_input": "2022-02-17T21:10:53.055772Z",
     "iopub.status.busy": "2022-02-17T21:10:53.055330Z",
     "iopub.status.idle": "2022-02-17T21:10:53.312988Z",
     "shell.execute_reply": "2022-02-17T21:10:53.312239Z"
    },
    "papermill": {
     "duration": 0.274602,
     "end_time": "2022-02-17T21:10:53.316611",
     "exception": false,
     "start_time": "2022-02-17T21:10:53.042009",
     "status": "completed"
    },
    "tags": []
   },
   "outputs": [
    {
     "data": {
      "image/png": "[encoded data removed]",
      "text/plain": [
       "<Figure size 720x720 with 1 Axes>"
      ]
     },
     "metadata": {
      "needs_background": "light"
     },
     "output_type": "display_data"
    }
   ],
   "source": [
    "pylab.figure(num=None, figsize=(10, 10))\n",
    "\n",
    "pylab.plot(gather_df.intersect_bp / 1e6, gather_df.iloc[::-1].index, 'gx', label='hashes classified to this species')\n",
    "pylab.plot(gather_df.unique_intersect_bp / 1e6, gather_df.iloc[::-1].index, 'ro', label='hashes classified for this genome')\n",
    "\n",
    "positions = list(gather_df.index)\n",
    "labels = list(reversed(names_df.display_name))\n",
    "pylab.yticks(positions, labels, fontsize='small')\n",
    "\n",
    "pylab.xlabel('number (millions)')\n",
    "pylab.legend(loc='lower right')\n",
    "pylab.title(f'{sample_id}: gather hashes')\n",
    "pylab.tight_layout()\n"
   ]
  }
 ],
 "metadata": {
  "kernelspec": {
   "display_name": "Python (myenv)",
   "language": "python",
   "name": "myenv"
  },
  "language_info": {
   "codemirror_mode": {
    "name": "ipython",
    "version": 3
   },
   "file_extension": ".py",
   "mimetype": "text/x-python",
   "name": "python",
   "nbconvert_exporter": "python",
   "pygments_lexer": "ipython3",
   "version": "3.9.10"
  },
  "papermill": {
   "default_parameters": {},
   "duration": 9.109724,
   "end_time": "2022-02-17T21:10:54.058206",
   "environment_variables": {},
   "exception": null,
   "input_path": "/home/ctbrown/genome-grist/genome_grist/conf/../notebooks/report-gather.ipynb",
   "output_path": "outputs.paper/reports/report-gather-SRR12324253.ipynb",
   "parameters": {
    "outdir": "outputs.paper",
    "render": "",
    "sample_id": "SRR12324253"
   },
   "start_time": "2022-02-17T21:10:44.948482",
   "version": "2.3.4"
  }
 },
 "nbformat": 4,
 "nbformat_minor": 5
}